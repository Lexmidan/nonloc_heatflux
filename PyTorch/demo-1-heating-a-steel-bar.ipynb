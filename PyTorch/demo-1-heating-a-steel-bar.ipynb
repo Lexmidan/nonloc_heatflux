{
 "cells": [
  {
   "cell_type": "markdown",
   "metadata": {},
   "source": [
    "# Demo: Heating of A Steel Bar\n",
    "\n",
    "This notebook provide a demo case on the application of the heat conduction solver.\n",
    "<br>\n",
    "\n",
    "## Geometry & Computational Grid\n",
    "In this case, we will consider a bar made of steel of length L = 0.01 m.  We will use N=51 nodes for this bar. As you can see, the grid spacing, dx will be $L/(N-1)=0.0002$ m.\n",
    "\n",
    "## Solution & Time Stepping\n",
    "The bar is exposed to the heat flux for 10 seconds. So we will set 50 time steps with a time step size of 0.2 second.\n",
    "Also, we need to set parameters for Newton's iteration. All the parameters can be found in below.\n",
    "\n",
    "## Initial & Boundary Conditions\n",
    "The initial temperature of the bar is assumed to be a constant of 298 K. At the front (x=0 m), a fixed heat flux (qdot) of 750000 W/m$^2$ is applied and at the end (x=L m), an adiabatic BC (qdot=0) is applied.\n",
    "## Material Properties\n",
    "|  Property  |   Value   |   Unit   |\n",
    "|------|------|------|\n",
    "|   Density  | 7850| kg/m$^3$     |\n",
    "|  Conductivity | 60.5 | W/(mK)|\n",
    "|  Specific Heat | 434 | J/(mK)"
   ]
  },
  {
   "cell_type": "markdown",
   "metadata": {},
   "source": [
    "First, import parameter module in order to get a Pandas series containing all the parameters."
   ]
  },
  {
   "cell_type": "code",
   "execution_count": 1,
   "metadata": {},
   "outputs": [
    {
     "name": "stderr",
     "output_type": "stream",
     "text": [
      "/usr/workspace/mlmfem/anaconda3/envs/ptl_env/lib/python3.10/site-packages/tqdm/auto.py:22: TqdmWarning: IProgress not found. Please update jupyter and ipywidgets. See https://ipywidgets.readthedocs.io/en/stable/user_install.html\n",
      "  from .autonotebook import tqdm as notebook_tqdm\n"
     ]
    },
    {
     "name": "stdout",
     "output_type": "stream",
     "text": [
      "len(Te) 10\n",
      "0    2550.190493\n",
      "1    2546.474407\n",
      "2    2538.618969\n",
      "3    2527.098791\n",
      "4    2511.485949\n",
      "5    2490.341317\n",
      "6    2458.411581\n",
      "7    2398.560449\n",
      "8    2224.253568\n",
      "9     333.313896\n",
      "Name: Te, dtype: float64\n"
     ]
    }
   ],
   "source": [
    "import parameter as para\n",
    "paras = para.main()"
   ]
  },
  {
   "cell_type": "markdown",
   "metadata": {},
   "source": [
    "We can print out the paras object to see all the parameters."
   ]
  },
  {
   "cell_type": "code",
   "execution_count": 2,
   "metadata": {},
   "outputs": [
    {
     "name": "stdout",
     "output_type": "stream",
     "text": [
      "problem                                                 HeatConduction\n",
      "SpatialDiscretize                                 CenteredDifferencing\n",
      "TimeDiscretize                                           BackwardEular\n",
      "ODEsolver                                              NewtonIteration\n",
      "linearSolver                                              numpy linalg\n",
      "CPU                                                                  1\n",
      "NNmodel              AlphaBetaModel(\\n  (fcIn): Linear(in_features=...\n",
      "material                                                         steel\n",
      "material function                                             constant\n",
      "density                                                           7850\n",
      "conductivity         0    0.180677\n",
      "1    0.180677\n",
      "2    0.180677\n",
      "3   ...\n",
      "heatCapacity                                                       434\n",
      "length                                                               1\n",
      "numberOfNode                                                        10\n",
      "x                    0    0.010000\n",
      "1    0.028000\n",
      "2    0.046001\n",
      "3   ...\n",
      "numberOfTimeStep                                                    10\n",
      "deltaTime                                                         0.01\n",
      "maxIteration                                                        10\n",
      "convergence                                                        0.0\n",
      "relaxation                                                           1\n",
      "scaling                              T         gradT          Z    ...\n",
      "InitTeProfile        0    2550.190493\n",
      "1    2546.474407\n",
      "2    2538.61...\n",
      "InitneProfile        0    4.671632e+20\n",
      "1    4.741645e+20\n",
      "2    4.841...\n",
      "InitgradTeProfile    0      -97.593234\n",
      "1     -330.986404\n",
      "2     -535...\n",
      "InitZbarProfile      0     1.999184\n",
      "1     1.999178\n",
      "2     1.999169\n",
      "3...\n",
      "InitKnProfile        0    0.000621\n",
      "1    0.002073\n",
      "2    0.003275\n",
      "3   ...\n",
      "Scaledne             0   -0.408644\n",
      "1   -0.404872\n",
      "2   -0.399512\n",
      "3   ...\n",
      "ScaledZ              0   -0.416725\n",
      "1   -0.416725\n",
      "2   -0.416726\n",
      "3   ...\n",
      "ScaledKn             0   -0.407305\n",
      "1   -0.379458\n",
      "2   -0.356405\n",
      "3   ...\n",
      "x=0 type                                                      heatFlux\n",
      "x=0 value                        NOT USED, we simply freeze to T0(x=0)\n",
      "x=L type                                              fixedTemperature\n",
      "x=L value                        NOT USED, we simply freeze to T0(x=L)\n",
      "Name: values, dtype: object\n"
     ]
    }
   ],
   "source": [
    "print(paras)"
   ]
  },
  {
   "cell_type": "markdown",
   "metadata": {},
   "source": [
    "As you can see, there are a lot of parameters to solve a PDE. \n",
    "It is noted that you can alter any parameter you want.\n",
    "<br>\n",
    "Now we have the parameters, now let's import the heatConduction solver."
   ]
  },
  {
   "cell_type": "code",
   "execution_count": 3,
   "metadata": {},
   "outputs": [],
   "source": [
    "import heatConduction as hc"
   ]
  },
  {
   "cell_type": "markdown",
   "metadata": {},
   "source": [
    "The heatConduction package contains necessary components to solve the PDEs. To just use it as a solver, simply passing the generated parameters to the solve function and execute. <br>\n",
    "The solution process will be displayed as, time step, physical time, number of Newton's iteration and residual.\n",
    "For details of the solution strategy, please review any numerical analysis text book."
   ]
  },
  {
   "cell_type": "code",
   "execution_count": 4,
   "metadata": {},
   "outputs": [
    {
     "name": "stdout",
     "output_type": "stream",
     "text": [
      " Heat Conduction Solver\n",
      " [Step] [Pysical Time] [Iteration] [Residue]\n",
      "iter = 0, |F| = 107211925916.58417\n",
      "iter = 1, |F| = 32972849554.97669\n",
      "iter = 2, |F| = 10107295539.74312\n",
      "iter = 3, |F| = 3065168673.493345\n",
      "iter = 4, |F| = 897739765.4967042\n",
      "iter = 5, |F| = 234896778.13896924\n",
      "iter = 6, |F| = 43065902.990353346\n",
      "iter = 7, |F| = 3657886.582936691\n",
      "iter = 8, |F| = 145087.32556737846\n",
      "iter = 9, |F| = 115.86194326991227\n",
      " [   1 ]  [   0.01 ]  [ 10 ]  [ 1.16E+02 ]\n",
      "[[338.06013166]\n",
      " [337.95481552]\n",
      " [337.74410897]\n",
      " [337.42788347]\n",
      " [337.00593308]\n",
      " [336.47799437]\n",
      " [335.84381534]\n",
      " [335.10341222]\n",
      " [334.2579185 ]\n",
      " [333.31389566]]\n",
      "iter = 0, |F| = 641188.8280718452\n",
      "iter = 1, |F| = 17982.258546112967\n",
      "iter = 2, |F| = 7.689515956238039\n",
      "iter = 3, |F| = 1.169175419154787e-06\n",
      "iter = 4, |F| = 2.51215803074648e-07\n",
      "iter = 5, |F| = 3.3377780989461175e-07\n",
      "iter = 6, |F| = 2.51215803074648e-07\n",
      "iter = 7, |F| = 3.3377780989461175e-07\n",
      "iter = 8, |F| = 2.51215803074648e-07\n",
      "iter = 9, |F| = 3.3377780989461175e-07\n",
      " [   2 ]  [   0.02 ]  [ 10 ]  [ 3.34E-07 ]\n",
      "[[333.32269309]\n",
      " [333.32245954]\n",
      " [333.32199762]\n",
      " [333.32131769]\n",
      " [333.3204353 ]\n",
      " [333.31937121]\n",
      " [333.31815139]\n",
      " [333.31680704]\n",
      " [333.31537459]\n",
      " [333.31389566]]\n",
      "iter = 0, |F| = 1069.2993836059386\n",
      "iter = 1, |F| = 0.06566077770446935\n",
      "iter = 2, |F| = 2.53704475910134e-07\n",
      "iter = 3, |F| = 2.487879057951537e-07\n",
      "iter = 4, |F| = 2.53704475910134e-07\n",
      "iter = 5, |F| = 2.487879057951537e-07\n",
      "iter = 6, |F| = 2.53704475910134e-07\n",
      "iter = 7, |F| = 2.487879057951537e-07\n",
      "iter = 8, |F| = 2.53704475910134e-07\n",
      "iter = 9, |F| = 2.487879057951537e-07\n",
      " [   3 ]  [   0.03 ]  [ 10 ]  [ 2.49E-07 ]\n",
      "[[333.31391159]\n",
      " [333.31391115]\n",
      " [333.3139103 ]\n",
      " [333.31390905]\n",
      " [333.31390743]\n",
      " [333.31390549]\n",
      " [333.31390328]\n",
      " [333.31390086]\n",
      " [333.3138983 ]\n",
      " [333.31389566]]\n",
      "iter = 0, |F| = 1.9277997966758258\n",
      "iter = 1, |F| = 3.8988256503594917e-07\n",
      "iter = 2, |F| = 2.8649039722797424e-07\n",
      "iter = 3, |F| = 2.3448742470219018e-07\n",
      "iter = 4, |F| = 2.8649039722797424e-07\n",
      "iter = 5, |F| = 2.3448742470219018e-07\n",
      "iter = 6, |F| = 2.8649039722797424e-07\n",
      "iter = 7, |F| = 2.3448742470219018e-07\n",
      "iter = 8, |F| = 2.8649039722797424e-07\n",
      "iter = 9, |F| = 2.3448742470219018e-07\n",
      " [   4 ]  [   0.04 ]  [ 10 ]  [ 2.34E-07 ]\n",
      "[[333.31389569]\n",
      " [333.31389569]\n",
      " [333.31389569]\n",
      " [333.31389569]\n",
      " [333.31389568]\n",
      " [333.31389568]\n",
      " [333.31389568]\n",
      " [333.31389567]\n",
      " [333.31389567]\n",
      " [333.31389566]]\n",
      "iter = 0, |F| = 0.003478063944913969\n",
      "iter = 1, |F| = 3.5808868761454734e-07\n",
      "iter = 2, |F| = 3.402010058102011e-07\n",
      "iter = 3, |F| = 3.5808868761454734e-07\n",
      "iter = 4, |F| = 3.402010058102011e-07\n",
      "iter = 5, |F| = 3.5808868761454734e-07\n",
      "iter = 6, |F| = 3.402010058102011e-07\n",
      "iter = 7, |F| = 3.5808868761454734e-07\n",
      "iter = 8, |F| = 3.402010058102011e-07\n",
      "iter = 9, |F| = 3.5808868761454734e-07\n",
      " [   5 ]  [   0.05 ]  [ 10 ]  [ 3.58E-07 ]\n",
      "[[333.31389566]\n",
      " [333.31389566]\n",
      " [333.31389566]\n",
      " [333.31389566]\n",
      " [333.31389566]\n",
      " [333.31389566]\n",
      " [333.31389566]\n",
      " [333.31389566]\n",
      " [333.31389566]\n",
      " [333.31389566]]\n",
      "iter = 0, |F| = 6.285762991662368e-06\n",
      "iter = 1, |F| = 2.0405832543089572e-07\n",
      "iter = 2, |F| = 2.0405832543089572e-07\n",
      "iter = 3, |F| = 2.0405832543089572e-07\n",
      "iter = 4, |F| = 2.0405832543089572e-07\n",
      "iter = 5, |F| = 2.0405832543089572e-07\n",
      "iter = 6, |F| = 2.0405832543089572e-07\n",
      "iter = 7, |F| = 2.0405832543089572e-07\n",
      "iter = 8, |F| = 2.0405832543089572e-07\n",
      "iter = 9, |F| = 2.0405832543089572e-07\n",
      " [   6 ]  [   0.06 ]  [ 10 ]  [ 2.04E-07 ]\n",
      "[[333.31389566]\n",
      " [333.31389566]\n",
      " [333.31389566]\n",
      " [333.31389566]\n",
      " [333.31389566]\n",
      " [333.31389566]\n",
      " [333.31389566]\n",
      " [333.31389566]\n",
      " [333.31389566]\n",
      " [333.31389566]]\n",
      "iter = 0, |F| = 2.0435878208705356e-07\n",
      "iter = 1, |F| = 2.3437142008433856e-11\n",
      " [   7 ]  [   0.07 ]  [  2 ]  [ 2.34E-11 ]\n",
      "[[333.31389566]\n",
      " [333.31389566]\n",
      " [333.31389566]\n",
      " [333.31389566]\n",
      " [333.31389566]\n",
      " [333.31389566]\n",
      " [333.31389566]\n",
      " [333.31389566]\n",
      " [333.31389566]\n",
      " [333.31389566]]\n",
      "iter = 0, |F| = 0.0\n",
      " [   8 ]  [   0.08 ]  [  1 ]  [ 0.00E+00 ]\n",
      "[[333.31389566]\n",
      " [333.31389566]\n",
      " [333.31389566]\n",
      " [333.31389566]\n",
      " [333.31389566]\n",
      " [333.31389566]\n",
      " [333.31389566]\n",
      " [333.31389566]\n",
      " [333.31389566]\n",
      " [333.31389566]]\n",
      "iter = 0, |F| = 0.0\n",
      " [   9 ]  [   0.09 ]  [  1 ]  [ 0.00E+00 ]\n",
      "[[333.31389566]\n",
      " [333.31389566]\n",
      " [333.31389566]\n",
      " [333.31389566]\n",
      " [333.31389566]\n",
      " [333.31389566]\n",
      " [333.31389566]\n",
      " [333.31389566]\n",
      " [333.31389566]\n",
      " [333.31389566]]\n",
      "iter = 0, |F| = 0.0\n",
      " [  10 ]  [   0.10 ]  [  1 ]  [ 0.00E+00 ]\n",
      "[[333.31389566]\n",
      " [333.31389566]\n",
      " [333.31389566]\n",
      " [333.31389566]\n",
      " [333.31389566]\n",
      " [333.31389566]\n",
      " [333.31389566]\n",
      " [333.31389566]\n",
      " [333.31389566]\n",
      " [333.31389566]]\n",
      "[Cost] CPU time spent 0.078 s\n"
     ]
    }
   ],
   "source": [
    "results, cache = hc.solve(paras)"
   ]
  },
  {
   "cell_type": "markdown",
   "metadata": {},
   "source": [
    "The solve output the results and a cache. The results is a numpy array consist of evolution of each time step over the domain. The cache file is a Python dictionary consists of some variables used by debugging. <br>\n",
    "In order to view the results, import the postprocessing package and preprocess the results. <br>\n",
    "The preprocess transform the numpy array into a Pandas DataFrame, with index as grid locations and columns as timings."
   ]
  },
  {
   "cell_type": "code",
   "execution_count": 5,
   "metadata": {},
   "outputs": [],
   "source": [
    "import postprocessing as pp\n",
    "T = pp.preprocess(paras, results)"
   ]
  },
  {
   "cell_type": "markdown",
   "metadata": {},
   "source": [
    "The first plot is the evolution field in both time and space. We can view the results in a 3D contour plot by just passing the processed T to the function evolutionField(). <br>\n",
    "It can be seen that the temperature over the var is increasing as time elapses."
   ]
  },
  {
   "cell_type": "code",
   "execution_count": 6,
   "metadata": {},
   "outputs": [
    {
     "ename": "TypeError",
     "evalue": "FigureBase.gca() got an unexpected keyword argument 'projection'",
     "output_type": "error",
     "traceback": [
      "\u001b[0;31m---------------------------------------------------------------------------\u001b[0m",
      "\u001b[0;31mTypeError\u001b[0m                                 Traceback (most recent call last)",
      "Cell \u001b[0;32mIn[6], line 1\u001b[0m\n\u001b[0;32m----> 1\u001b[0m \u001b[43mpp\u001b[49m\u001b[38;5;241;43m.\u001b[39;49m\u001b[43mevolutionField\u001b[49m\u001b[43m(\u001b[49m\u001b[43mT\u001b[49m\u001b[43m)\u001b[49m\n",
      "File \u001b[0;32m~/nonloc_heatflux/PyTorch/postprocessing.py:30\u001b[0m, in \u001b[0;36mevolutionField\u001b[0;34m(results)\u001b[0m\n\u001b[1;32m     27\u001b[0m X, Y \u001b[38;5;241m=\u001b[39m np\u001b[38;5;241m.\u001b[39mmeshgrid(X, Y)\n\u001b[1;32m     29\u001b[0m fig \u001b[38;5;241m=\u001b[39m plt\u001b[38;5;241m.\u001b[39mfigure(figsize\u001b[38;5;241m=\u001b[39m(\u001b[38;5;241m8\u001b[39m,\u001b[38;5;241m6\u001b[39m))\n\u001b[0;32m---> 30\u001b[0m ax \u001b[38;5;241m=\u001b[39m \u001b[43mfig\u001b[49m\u001b[38;5;241;43m.\u001b[39;49m\u001b[43mgca\u001b[49m\u001b[43m(\u001b[49m\u001b[43mprojection\u001b[49m\u001b[38;5;241;43m=\u001b[39;49m\u001b[38;5;124;43m'\u001b[39;49m\u001b[38;5;124;43m3d\u001b[39;49m\u001b[38;5;124;43m'\u001b[39;49m\u001b[43m)\u001b[49m\n\u001b[1;32m     31\u001b[0m ax\u001b[38;5;241m.\u001b[39mset_xlabel(\u001b[38;5;124m'\u001b[39m\u001b[38;5;124mx, m\u001b[39m\u001b[38;5;124m'\u001b[39m)\n\u001b[1;32m     32\u001b[0m ax\u001b[38;5;241m.\u001b[39mset_ylabel(\u001b[38;5;124m'\u001b[39m\u001b[38;5;124mTime, s\u001b[39m\u001b[38;5;124m'\u001b[39m)\n",
      "\u001b[0;31mTypeError\u001b[0m: FigureBase.gca() got an unexpected keyword argument 'projection'"
     ]
    },
    {
     "data": {
      "text/plain": [
       "<Figure size 800x600 with 0 Axes>"
      ]
     },
     "metadata": {},
     "output_type": "display_data"
    }
   ],
   "source": [
    "pp.evolutionField(T)"
   ]
  },
  {
   "cell_type": "markdown",
   "metadata": {},
   "source": [
    "We can also check the temperature evolution for some specific locations, as there are thermal couples. <br>\n",
    "Simply create a list of locations you want to check, and then pass the T and positions into the thermalCouplePlot() function."
   ]
  },
  {
   "cell_type": "code",
   "execution_count": null,
   "metadata": {
    "scrolled": false
   },
   "outputs": [],
   "source": [
    "positions = [0, 0.002, 0.004, 0.006, 0.008, 0.01]\n",
    "pp.thermalCouplePlot(T, positions)"
   ]
  },
  {
   "cell_type": "markdown",
   "metadata": {},
   "source": [
    "We can futher check how the temperature is distributed over the domain at different times. Simply create a list of timings you want, and pass the T and times to the temperatureDistribution functions."
   ]
  },
  {
   "cell_type": "code",
   "execution_count": null,
   "metadata": {},
   "outputs": [],
   "source": [
    "times = [0, 2, 4, 6, 8, 10]\n",
    "pp.temperatureDistribution(T, times)"
   ]
  },
  {
   "cell_type": "markdown",
   "metadata": {},
   "source": [
    "Thanks for viewing this notebook and enjoy!"
   ]
  },
  {
   "cell_type": "code",
   "execution_count": null,
   "metadata": {},
   "outputs": [],
   "source": []
  }
 ],
 "metadata": {
  "kernelspec": {
   "display_name": "Python [conda env:ptl_env]",
   "language": "python",
   "name": "conda-env-ptl_env-py"
  },
  "language_info": {
   "codemirror_mode": {
    "name": "ipython",
    "version": 3
   },
   "file_extension": ".py",
   "mimetype": "text/x-python",
   "name": "python",
   "nbconvert_exporter": "python",
   "pygments_lexer": "ipython3",
   "version": "3.10.8"
  }
 },
 "nbformat": 4,
 "nbformat_minor": 2
}
